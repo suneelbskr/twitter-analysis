{
 "cells": [
  {
   "cell_type": "code",
   "execution_count": 1,
   "id": "f0913bae",
   "metadata": {},
   "outputs": [],
   "source": [
    "import tweepy\n",
    "import pandas as pd\n",
    "import re\n",
    "import seaborn as sns\n",
    "import matplotlib.pyplot as plt\n",
    "import nltk"
   ]
  },
  {
   "cell_type": "markdown",
   "id": "c05efa8e",
   "metadata": {},
   "source": [
    "**Credentails are stored in twitter_auth.ipynb and read through cell below***"
   ]
  },
  {
   "cell_type": "code",
   "execution_count": 2,
   "id": "d1cd666a",
   "metadata": {},
   "outputs": [],
   "source": [
    "%run ./twitter_auth.ipynb"
   ]
  },
  {
   "cell_type": "code",
   "execution_count": 3,
   "id": "aa2fc64e",
   "metadata": {},
   "outputs": [],
   "source": [
    "auth = tweepy.OAuthHandler(consumer_key, consumer_secret)\n",
    "auth.set_access_token(access_token, access_token_secret)\n",
    "api = tweepy.API(auth)"
   ]
  },
  {
   "cell_type": "code",
   "execution_count": 4,
   "id": "1ecae398",
   "metadata": {},
   "outputs": [],
   "source": [
    "cursorx = tweepy.Cursor(api.user_timeline, id = 'Google', tweet_mode= 'extended').items(100)"
   ]
  },
  {
   "cell_type": "code",
   "execution_count": 5,
   "id": "d74b75fd",
   "metadata": {},
   "outputs": [],
   "source": [
    "for i in cursorx:\n",
    "    #print(dir(i)) --> Get columns names\n",
    "    break"
   ]
  },
  {
   "cell_type": "code",
   "execution_count": 6,
   "id": "c72080bd",
   "metadata": {
    "scrolled": true
   },
   "outputs": [
    {
     "name": "stdout",
     "output_type": "stream",
     "text": [
      "@CmTutoriais2021 Hi there. Just to confirm, are you still able to sign into your Google account? Let us know.\n",
      "@architectrahuls Hi Rahul. We'd like to move this conversation to DM. Please follow us and let us know when you have so we can share next steps.\n",
      "@GrindsCoffey Hi there. We'd like to move this conversation to DM. Please follow us and let us know when you have so we can share next steps.\n",
      "@dsomdehradun Hi there. Let's see what we can do to help. Look out for a DM with next steps.\n",
      "@Yadneshshinde14 Hi Yadnesh. Let's see what we can do to help. Look out for a DM with next steps.\n",
      "@udayyyyyyyy123 Hi Uday. Have you already tried recovering your Google account using the steps here: https://t.co/CJQaJUw3RV? These tips may help: https://t.co/vQSZijYFh6. Let us know.\n",
      "@khushal929 You're welcome! We suggest adding extra layers of security to your Google Account with these tips: https://t.co/HpAgO5vEEy.\n",
      "@abdulllahanwar Hi Abdullah. We'd like to move this conversation to DM. Please follow us and let us know when you have so we can share next steps.\n",
      "@kells42071015 Hmm. Let's see what we can do to help. Look out for a DM with next steps.\n",
      "@rooh452 We do want to help. Please follow @Google and let us know when you have so we can share next steps.\n",
      "@FlatSeller Hmm. Let's see what we can do to help. Look out for a DM with next steps.\n",
      "@Lucky34640932 Hmm. Let's see what we can do to help. Look out for a DM with next steps.\n",
      "@LbRaghuYT Hmm. Let's see what we can do to help. Please follow us and let us know when you have so we can share next steps through DM.\n",
      "@AdesonFrank Hmm. Just to confirm, have you already tried recovering your account using the steps here: https://t.co/CJQaJUw3RV? These tips may help: https://t.co/vQSZijYFh6. Let us know.\n",
      "@TausifA94523934 Hmm. Let's see what we can do to help. Please follow us and let us know when you have so we can share next steps through DM.\n",
      "@MehrzadAr Hmm. Let's see what we can do to help. Look out for a DM with next steps.\n",
      "@Ananychaturved2 Hmm. Let's see what we can do to help. Look out for a DM with next steps.\n",
      "@Hridoy99991 Hmm. Have you already tried recovering your account by completing the steps here: https://t.co/CJQaJUw3RV? These tips may help: https://t.co/vQSZijYFh6. Keep us posted.\n",
      "@KatieSiegwarth Hmm. Let's see what we can do to help. Please follow us and let us know when you have so we can share next steps through DM.\n",
      "@brianmtua33 Hmm. Let's see what we can do to help. Look out for a DM with next steps.\n",
      "@Yogendra7668 We do want to help. Please follow @Google and let us know when you have so we can share next steps.\n",
      "@futureispRateek Let's see what we can do to help. Please follow us and let us know when you have so we can share next steps through DM.\n",
      "@calangoball Hmm. Let's see what we can do to help. Please follow us and let us know when you have so we can share next steps through DM.\n",
      "@aali_gohar Hmm. Let's see what we can do to help. Look out for a DM with next steps.\n",
      "@dinarte_augusto Mind if we jump in? Did you try resetting your password by completing the steps on this page: https://t.co/CJQaJUw3RV? These tips may help: https://t.co/vQSZijYFh6. Let us know.\n",
      "@Subharanjan_ Hmm. Let's see what we can do to help. Please follow us and let us know when you have so we can share next steps through DM.\n",
      "@faridamzada Hmm. Let's see what we can do to help. Please follow us and let us know when you have so we can share next steps through DM.\n",
      "@ludish_Man Hmm. Let's see what we can do to help. Please follow us and let us know when you have so we can share next steps through DM.\n",
      "@rellbickboi Hmm. Feel free to reach out if you have any other Google account questions in the future.\n",
      "@EchoReaver Hi there. This guide may help: https://t.co/ZOHEKMRY8d. If something looks out-of-line, we suggest adding extra layers of security to your Google Account with these tips: https://t.co/HpAgO5vEEy.\n",
      "@recocraftt Hi there. We'd like to move this conversation to DM. Please follow us and let us know when you have so we can share next steps.\n",
      "@KaalamaadanG Hi there. Let's see what we can do to help. Look out for a DM with next steps.\n",
      "@JoannaCssn For security reasons, you cannot reuse a deleted Gmail username. More information here: https://t.co/3mMMwxwfd9. You can create a new one here: https://t.co/6kRsxbTkvp.\n",
      "@bukunmi_peace Hi Bukunmi. Have you already tried recovering your account by completing the steps here: https://t.co/CJQaJUw3RV? These tips may help: https://t.co/vQSZijYFh6. Let us know.\n",
      "@NikeshKamar Hi Nikesh. Let's see what we can do to help. Look out for a DM with next steps.\n",
      "@CeliaBarlow1 Hi, Celia. That's not the experience we'd like you to have. Can you follow us and let us know when you have so that we can get some details and look into this further?\n",
      "Boost your confidence and your self-promotion skills through #IamRemarkable, a Google initiative that encourages you to celebrate your achievements. Join us for free workshops and talks with inspiring creators and business leaders → https://t.co/piDG5mHcj1 https://t.co/YKjNBNoFPF\n",
      "@Shivraj15505483 Hi, Shivraj. Just checking in, are you still facing an issue? Let us know. We’re here to help.\n",
      "@uhhh_neee Hi, Aniruddh. Have you tried the steps here to fix any payment issues with your Google account: https://t.co/afBTpzFBTI?\n",
      "@Undefine10011 Hmm. Are you getting a specific error message when you try signing into your Google account? Without revealing your email address, give us the exact wording &amp; we'll try and point you in the right direction. This guide may also help: https://t.co/2onqlsMNnL.\n",
      "@TuckerHealth Hmm. Let's see what we can do to help. Please follow us and let us know when you have so we can share next steps through DM.\n",
      "@Ramesh14737 Hi Ramesh. Just to confirm, have you already tried recovering your account using the steps here: https://t.co/CJQaJUw3RV? These tips may help: https://t.co/vQSZijYFh6. Let us know.\n",
      "@StarGaming999 Hi there. You can skip that step using \"Try another way\" but we suggest answering all questions as best as you can. Keep us posted.\n",
      "@CenTiSoN Hi there. Let's get you connected with a Google One expert for further help. Visit https://t.co/KyjQlYliQl and try the support options available in the upper right corner.\n",
      "@callmehassi Hi Hassan. We'd like to move this conversation to DM. Please follow us and let us know when you have so we can share next steps.\n",
      "@KPNOLE19 Hey there, thanks for reaching out! You can follow the instructions here to recover your account: https://t.co/82GDbFZdwU or start the process here: https://t.co/DSI46SkCBC.\n",
      "Every year, South Africa’s National Council for People with Disabilities hosts a Nappy Run — an initiative to raise money for diapers (also known as nappies) for children with disabilities. Learn how Googlers in South Africa and beyond are participating → https://t.co/q9eGT1nbz5\n",
      "@JordenPagel Hi Jorden. You can skip that step using \"Try another way\" but we suggest answering all questions as best as you can. Keep us posted.\n",
      "@priyanka_ranwa Hi Priyanka. Did you try resetting your password by completing the steps on this page: https://t.co/CJQaJUw3RV? These tips may help: https://t.co/vQSZijYFh6. Let us know.\n",
      "@ABHINAY31291619 Hi Abhinay. Let's see what we can do to help. Look out for a DM with next steps.\n",
      "@Rishabh_zain Hmm. Let's see what we can do to help. Look out for a DM with next steps.\n",
      "@arun_aaro Hmm. Let's see what we can do to help. Look out for a DM with next steps.\n",
      "@urmom86566928 Hmm. Did you try resetting your password by completing the steps on this page: https://t.co/CJQaJUw3RV? These tips may help: https://t.co/vQSZijYFh6. Let us know.\n",
      "@layraesl Hi there. We'd suggest adding extra layers of security to your account with these tips: https://t.co/HpAgO5vEEy. Hope this helps.\n",
      "@Iam_oyaro Hi there. Let's see what we can do to help. Please follow us and let us know when you have so we can share next steps through DM.\n",
      "@JoshuaM87432367 Hi Joshua. Have you already tried recovering your Google account using the steps here: https://t.co/CJQaJUw3RV? These tips may help: https://t.co/vQSZijYFh6. Let us know.\n",
      "@mahipal1228 Hi Mahipal. Are you getting a specific error message when you try signing into your Google account? Without revealing your email address, give us the exact wording &amp; we'll try and point you in the right direction. This guide may also help: https://t.co/2onqlsMNnL.\n",
      "@Jamezdan123 Hi there. Just to confirm, did you try resetting your password by completing the steps on this page: https://t.co/CJQaJUw3RV? These tips may help: https://t.co/vQSZijYFh6. Let us know.\n",
      "@Sachin14332 Hi Sachin. Just to confirm, did you try resetting your password by completing the steps on this page: https://t.co/CJQaJUw3RV? These tips may help: https://t.co/vQSZijYFh6. Let us know.\n"
     ]
    },
    {
     "name": "stdout",
     "output_type": "stream",
     "text": [
      "@AniamakaV Hi Aniamaka. We'd like to move this conversation to DM. Please follow us and let us know when you have so we can share next steps.\n",
      "@SahilGoraya14 Hmm. Let's see what we can do to help. Look out for a DM with next steps.\n",
      "@Kores2302 Hmm. Let's see what we can do to help. Look out for a DM with next steps.\n",
      "@scrimstanpriv Hi there. Without revealing your email address, tell us more about what's going on with your account. We'll see what we can do to help.\n",
      "@MannCha82651939 We do want to help. Please follow @Google on Twitter and let us know when you have so we can take this to DM.\n",
      "@Chevelless1972 Hmm. Just to confirm, have you already tried recovering your account using the steps here: https://t.co/CJQaJUw3RV? These tips may help: https://t.co/vQSZijYFh6. Let us know.\n",
      "@siya_duna Hi Jay. Is this a Google Workspace account (ending in something other than @gmail.com)? We suggest contacting your IT Admin for next steps.\n",
      "@SinTaker06 Hmm. Did you try resetting your password by completing the steps on this page: https://t.co/CJQaJUestl? These tips may help: https://t.co/vQSZikgg8E. Let us know.\n",
      "@VishalK67541075 We'd suggest adding extra layers of security to your account with these tips: https://t.co/HpAgO5vEEy. Hope this helps.\n",
      "@feebeebridgers Hmm. Let's see what we can do to help. Please follow us and let us know when you have so we can share next steps through DM.\n",
      "@_M_A_Y_A_N_K Hmm. Let's see what we can do to help. Please follow us and let us know when you have so we can share next steps through DM.\n",
      "RT @WomenTechmakers: Black women are changing the world of tech. Hear their stories → https://t.co/vmaYrFuYCN\n",
      " \n",
      "#WomenTechmakers is proud t…\n",
      "@Slim17451471 Let's see what we can do to help. Please follow us and let us know when you have so we can share next steps through DM.\n",
      "@Jaflle Hi there. Have you already tried recovering your account using the steps here: https://t.co/CJQaJUw3RV? These tips may help: https://t.co/vQSZijYFh6. Let us know.\n",
      "@lihsaaron Hmm. Let's see what we can do to help. Look out for a DM with next steps.\n",
      "@xanomead Hmm. Let's see what we can do to help. Please follow us and let us know when you have so we can share next steps through DM.\n",
      "@chiOkafor4 Hmm. Let's see what we can do to help. Look out for a DM with next steps.\n",
      "@LorraineMac67 Hi Lorraine. Just to confirm, did you try resetting your password by completing the steps on this page: https://t.co/CJQaJUw3RV? These tips may help: https://t.co/vQSZijYFh6. Let us know.\n",
      "@SamuelSciarra Let's see what we can do to help. Please follow us and let us know when you have so we can share next steps through DM.\n",
      "@BearxFans Let's see what we can do to help. Please follow us and let us know when you have so we can share next steps through DM.\n",
      "@nathanRsalazar Hi Nathan. Have you already tried recovering your account using the steps here: https://t.co/CJQaJUw3RV? These tips may help: https://t.co/vQSZijYFh6. Let us know.\n",
      "@shanthofficial Hmm. Let's see what we can do to help. Please follow us and let us know when you have so we can share next steps through DM.\n",
      "@feddidinero Let's see what we can do to help. Please follow us and let us know when you have so we can share next steps through DM.\n",
      "@shelitafire_ Hmm. Let's see what we can do to help. Please follow us and let us know when you have so we can share next steps through DM.\n",
      "@KedarChy Hmm. Let's see what we can do to help. Please follow us and let us know when you have so we can share next steps through DM.\n",
      "@Sanjayaryavart Hi Sanjay. Are you getting a specific error message when you try signing into your Google account? Without revealing your email address, give us the exact wording &amp; we'll try and point you in the right direction. This guide may also help: https://t.co/2onqlsMNnL.\n",
      "@MKYADAV29590382 Hi Mithilesh. We'd like to move this conversation to DM. Please follow us and let us know when you have so we can share next steps.\n",
      "@ChhattuDas9 Hi Chhattu. Have you already tried recovering your Google account using the steps here: https://t.co/CJQaJUw3RV? These tips may help: https://t.co/vQSZijYFh6. Let us know.\n",
      "@Vikash19913169 Hi Vikash. You can skip that step using \"Try another way\" but we suggest answering all questions as best as you can. Keep us posted.\n",
      "@Guy21Juice Hi there. Just to confirm, are you still able to sign into your Google account? Let us know.\n",
      "@Jackamollo Hi Jack. You can skip that step using \"Try another way\" but we suggest answering all questions as best as you can. Keep us posted.\n",
      "@VanshMe08365227 Hi Vansh. Let's see what we can do to help. Look out for a DM with next steps.\n",
      "@Varshithchinta2 Hi Varshith. Have you already tried recovering your account using the steps here: https://t.co/CJQaJUw3RV? These tips may help: https://t.co/vQSZijYFh6. Let us know.\n",
      "@HidariEMC Hi there. Without revealing your email address, tell us more about what's going on with your account. We'll see what we can do to help.\n",
      "@WolfSiLvey Hi there. Just to confirm, have you already tried recovering your account using the steps here: https://t.co/CJQaJUw3RV? These tips may help: https://t.co/vQSZijYFh6. Let us know.\n",
      "@hurvicdanlilik Hi Ali. Just to confirm, are you still able to sign into your account? Let us know.\n",
      "@indigcababy Let's see what we can do to help. Please follow us and let us know when you have so we can share next steps through DM.\n",
      "@BruceWitJuice Hi Bruce. Just to confirm, are you able to sign into your account now? Let us know.\n",
      "@thenixmin Hi there. We'd suggest adding extra layers of security to your account with these tips: https://t.co/HpAgO5vEEy. Hope this helps.\n",
      "@ChocoNata_ Hmm. Let's see what we can do to help. Please follow us and let us know when you have so we can share next steps through DM.\n"
     ]
    }
   ],
   "source": [
    "for i in cursorx:\n",
    "    #print(i.full_text) --> Print the Tweet\n",
    "    break"
   ]
  },
  {
   "cell_type": "code",
   "execution_count": 7,
   "id": "05d7e6ff",
   "metadata": {},
   "outputs": [],
   "source": [
    "cursor_hashx = tweepy.Cursor(api.user_timeline, q='machinelearning', tweet_mode= 'extended').items(100)"
   ]
  },
  {
   "cell_type": "code",
   "execution_count": 8,
   "id": "eca788a0",
   "metadata": {},
   "outputs": [
    {
     "name": "stdout",
     "output_type": "stream",
     "text": [
      "RT @CatherineAdenle: Infographic: 25 Big Data Terms You Must Know To Impress Your Date (Or whoever you want to) \n",
      "\n",
      "#DataScience #DataScienti…\n",
      "#MachineLearning projects.  This 👇 is a great thread. https://t.co/TPlGBV5NK6\n",
      "RT @Sauain: 10 Popular Sites to learn Machine Learning 🚀\n",
      "\n",
      "👉 Coursera\n",
      "👉 Kaggle\n",
      "👉 edX\n",
      "👉 Data Camp\n",
      "👉 Google AI\n",
      "👉 IBM Cognitive Classes\n",
      "👉 Fast…\n",
      "RT @RitupaGhosh: The Top 10 #MachineLearning #ML Algorithms Every Beginner Should Know.\n",
      " #python #deeplearning #ArtificialIntelligence #AI…\n",
      "RT @KirkDBorne: #Python Libraries &amp; Frameworks!\n",
      "\n",
      "#MachineLearning #DataScience #DataScientists https://t.co/m7GFAg6bAd\n",
      "RT @alvinfoo: This device could predict incoming phone calls 😁 https://t.co/MDm5NpJaxq\n",
      "@RanaMishka \"Code compiled successfully\"\n",
      "RT @ml_india_: 🙋‍♀️ Most popular NLP Algorithms: \n",
      "\n",
      "1️⃣ Support Vector Machines\n",
      "\n",
      "2️⃣ Bayesian Networks\n",
      "\n",
      "3️⃣ Maximum Entropy\n",
      "\n",
      "4️⃣ Conditional…\n",
      "RT @ml_india_: If you are new to learning Python or you want to revise a few concepts, This is a MUST SAVE cheat sheet which covers all thi…\n",
      "RT @Sauain: 10 Popular Machine Learning Libraries🚀👇\n",
      "\n",
      "➡️ Tensorflow\n",
      "➡️ Keras\n",
      "➡️ Pandas\n",
      "➡️ Numpy\n",
      "➡️ OpenCV\n",
      "➡️ Scipy\n",
      "➡️ Pytorch\n",
      "➡️ Matplotlib…\n",
      "RT @driscollis: In less than 20 lines of #Python code, you can SFTP / SSH a file from your local server to a remote server using Paramiko:…\n",
      "RT @SeguraAndres7: Like everything in life: it depends, above all, depends on the data.\n",
      "\n",
      "If the data has probability associated with it (li…\n",
      "@AnonymAditya @PrasoonPratham Read his comment again lol\n",
      "@abhi1thakur Reminder ON\n",
      "@sshhwweettaa_ @ICICILombard Same issue for me, they deducted the amount and failed to generate the policy. Raised a ticket and they don't respond. Their CC is hilarious and pathetic to core. They can't even talk or understand the issue. Bunch of clowns.\n",
      "@ICICILombard Done !! Always a bot reply🤦\n",
      "RT @_s_w_a_y_a_m_: Learnt a very interesting concept from @abhi1thakur  walkthrough video for @kaggle 30 Days ML challenge D-12, P-1.\n",
      "Use m…\n",
      "@abhi1thakur Can't wait 😀\n",
      "https://t.co/4muJfYitvw\n",
      "\n",
      "@abhi1thakur Sir - Why did we create a seperate file with Folds ,read again and iterate ourselves, while cross_val_score does that for us. Rookie here trying to connect the dots 😇😇 #Kaggle #30daysofML\n",
      "\n",
      "Pl. let me know your thoughts behind this logic.\n",
      "@amazon  @amazonIN @AmazonHelp \n",
      "\n",
      "Hey Amazon, I've got a wrong product 2day and your CC refunded my amt and asked to dispose the product.The price is 6000rs and I couldn't just throw it. Can u pl. pickup this and deliver to original owner? The bill in the package have his address.\n",
      "@abhi1thakur Amazing ML content this, thier loss 😁\n",
      "\n",
      "Please keep creating these awesome videos. Many like me are looking at you for motivation.\n",
      "@insharebazaar Two books a day isn't overly exaggerated 🤔\n",
      "\n",
      "Also these days we have everything available online and don't have to rely 'that much' on books imo.\n",
      "RT @TivadarDanka: How to build a good understanding of math for machine learning?\n",
      "\n",
      "I get this question a lot, so I decided to make a comple…\n",
      "RT @carolinabento: New article on a series on Tree-based #MachineLearning algorithms is coming out soon! \n",
      "\n",
      "All about Gradient Boosting Algo…\n",
      "RT @pythonbot_: Random Forests Algorithm explained with a real-life example and some Python code https://t.co/yS9Q73Mv5n  #PythonCode\n",
      "RT @carolinabento: Second article in a series about Tree-based #MachineLearning algorithms: Random Forests.\n",
      "\n",
      "#RandomForests tackles #overfi…\n",
      "RT @carolinabento: Last article in a series on Tree-based #MachineLearning algorithms: Boosting Algorithms.\n",
      "\n",
      "#GradientBoostedDecisionTrees…\n",
      "Finally !! I've completed the Intermediate Machine Learning course on Kaggle! https://t.co/Fb8l05E2LK \n",
      "\n",
      "Amazing sessions by @Kaggle #30daysofml #Kaggle\n",
      "\n",
      "Special thanks to @abhi1thakur , can't wait for competetions 😅\n",
      "Day 13 , #30daysofML\n",
      "\n",
      "@abhi1thakur @kaggle \n",
      "\n",
      "Million thanks to Abhishek Sir for creating amazing content on #Kaggle daily tutorials to make it more intresting and informational. Learnt combining model with GradientBoostingRegressor.\n",
      "\n",
      "Rank moved from 16000+ to 200+ 🤯🤯\n",
      "RT @Jeande_d: My complete ML toolset:\n",
      "\n",
      "◆NumPy ➙ Data computation\n",
      "◆Pandas ➙ Data analysis &amp; manipulation\n",
      "◆Matplotlib/Seaborn ➙ Data viz\n",
      "◆Sci…\n",
      "RT @Al_Grigor: ML Zoomcamp - learn ML engineering online for free\n",
      "\n",
      "🔸 Regression\n",
      "🔸 Classification\n",
      "🔸 Model evaluation\n",
      "🔸 Model deployment\n",
      "🔸 Tr…\n",
      "@DataScienceDojo Where are the 10 pages ? 😭\n",
      "RT @DataScienceDojo: 📍 Stroke Prediction using Data Analytics and Machine Learning: https://t.co/haaKkII7Er\n",
      "\n",
      "#DataAnalytics #MachineLearnin…\n",
      "@BostonDynamics @FlukePI Why isn't this handle verified yet 🤔\n",
      "RT @PrasoonPratham: Machine learning projects ideas🧠\n",
      " \n",
      "🏡 Housing prices prediction\n",
      "🐶 Cats and Dogs classifier\n",
      "🎨 Art with style transfer\n",
      "🤬 T…\n",
      "RT @rickhuckstep: 3/\n",
      "\n",
      "@Krishnaik06 \n",
      "\n",
      "Krish Naik is co-founder of https://t.co/uK2Dh9Fvbr and specialises in #machinelearning, #deeplearning…\n",
      "RT @PiyalBanik: #DataScience Project 4\n",
      "\n",
      "Customer Segmentation\n",
      "\n",
      "- Use Machine Learning to create a model that performs Customer Segmentation…\n",
      "@Al_Grigor Registered, excited 🤩🤩\n",
      "RT @Sukriti_Macker: Are you looking for ways to start Data Science and Machine Learning? 🤔\n",
      "\n",
      "FREE Data Science &amp; Machine Learning Resources…\n",
      "@oneplus Relax people, it's just an ad about how hot this phone can heat up that you can literally make a tea anytime.\n",
      "@UniverseIce Where is the option - \"My Wallet\"\n",
      "RT @Jeande_d: Machine Learning models are very particular about the type and range of values that have to go for their input in order to do…\n",
      "@OnePlus_USA Their downfall is clearly evident that they stooped such low to market a failure model.\n",
      "\n",
      "It became 'another' Chinese company.\n",
      "@utsavtechie Their downfall is clearly evident that they stooped such low to market a failure model.\n",
      "\n",
      "It became 'another' Chinese company.\n",
      "RT @simonholdorf: If you are serious about AWS certifications and want to pass the quite difficult exams you must use practice exams!\n",
      "\n",
      "I ca…\n",
      "RT @simonholdorf: I've recently sat and passed the AWS Certified Solution Architect Associate Exam with 913/1000 in my first try.\n",
      "\n",
      "Many peo…\n",
      "@Davy73602171 @codingyuri No Shyt, Sherlock !\n",
      "RT @Jeande_d: Machine learning complete toolset:\n",
      "\n",
      "◆NumPy ➙ Numeric computations\n",
      "◆Pandas ➙Data analysis &amp; manipulation\n",
      "◆Matplotlib/Seaborn ➙…\n",
      "RT @thePiggsBoson: Wanna Learn Artificial Intelligence and Machine Learning for free? \n",
      "\n",
      "A Thread 👇\n",
      "@nsym_coding That's day 1 ?? 😱\n",
      "\n",
      "Thanks for humiliating me 😭😭\n",
      "@yadavajay Yeah !!!\n",
      "\n",
      "Extra time to spend on expanding technical knowledge.\n",
      "RT @abhi1thakur: 🚀 🚀 🚀 If you are a beginner in #machinelearning and #python, I am making youtube videos each day for the #30DaysOfML chall…\n",
      "@wilfricastillo3 @MoviesThatMaher @Sony Well, then....another childish silly comedy is exactly what I need\n",
      "@SupremePSPK @PawanKalyan That Kushi hairstyle 🤩\n",
      "@Neerajkundan LoL....those kids got free masks on the spot for a picture by some anti govt. and now advertising as it was done by students.\n",
      "RT @Sauain: SIX Youtube Playlists where you can learn Machine Learning for FREE 😉💯\n",
      "\n",
      "🧵👇\n",
      "RT @Sauain: FIVE Github Repositories from which you can learn about Data Science 😉💯\n",
      "\n",
      "🧵👇\n",
      "@flashjor98 @scotstotz @axityx_prxtxp @miemelaar @getpeid @jeremywired That's pretty lame statement. Ngl\n",
      "RT @almeezyuh: learn machine learning in 12 weeks | microsoft ML course walk-through\n",
      "https://t.co/0ODqRa8MJc https://t.co/ZAYJRjGSYN\n",
      "RT @ammaryh92: The ABSOLUTE ESSENTIALS of scikit-learn every data scientist should know\n",
      "(Introduction + Examples)\n",
      "\n",
      "🧵Long Thread 👇👇\n",
      "#Machine…\n",
      "RT @PiyalBanik: Find basic Machine Learning Algorithms all in one place👇\n",
      "\n",
      "- Linear, Multiple, Polynomial Regression\n",
      "- Decision Tree\n",
      "- Logis…\n",
      "@arafarfaa @ishaan_2966 @niiravmodi What's wrong in being proud of one's own cast ?\n",
      "@NickHopeTV Hmm.....My thoughts are very bad\n",
      "@prk8june @oneplus He left the OnePlus an year back, didn't he ?\n",
      "RT @PiyalBanik: \"People need to know Maths to become Data Scientists or Machine Learning Engineer\"\n",
      "\n",
      "- True! 😀 \n",
      "\n",
      "But, how much do we need to…\n",
      "RT @dannysteenman: On my Twitter journey, I wrote a lot of threads on DevOps, AWS, and Python.\n",
      "\n",
      "Here are some of my best ones 👇\n",
      "RT @python_engineer: Are you new to ML and want to get started?\n",
      "\n",
      "I found another free Google Crash Course: Introduction to Machine Learning…\n",
      "RT @DThompsonDev: My mistakes on my coding journey:\n",
      "\n",
      "*Getting attracted to every new shiny technology\n",
      "*Thinking I had to know everything &amp;…\n",
      "RT @DThompsonDev: Really great Git cheet sheet https://t.co/pVCsFcbGdN\n",
      "@OnePlus_IN 2MP camera is laughing 😂\n",
      "@kumarjeevan067 @OnePlus_IN Those are not necessary for Midrange Mobiles..\n",
      "@nandita_gaur MilliLitres , simple answer 🤦\n",
      "RT @PrasoonPratham: KNNs 👇\n",
      "https://t.co/NfAYmhiOMt\n",
      "@misi Congrats Mishi. I'm planning for it too, what is the preperation time, months ?\n",
      "RT @misi: @vivekkrockstar 👉 Watch #AWS Power Hour on Twitch: https://t.co/i4XxaQtPhW\n",
      "👉 Follow @dtraub for his #Shorts \n",
      "👉 Take the Exam Read…\n",
      "RT @PrasoonPratham: Here are 5 simple datasets to learn how to train machine learning models for beginners.\n",
      "\n",
      "🧵 👇🏻\n",
      "@FaheemYounus This right here is the most id1otic stat I've ever seen.\n",
      "\n",
      "Total doses calculated directly against the population. Waah !! You're bringing the whole internet's IQ down single-handedly. https://t.co/WgXch0bc5v\n",
      "@PrinceSpeaking @ymehpk @FaheemYounus That id1ot blocked me too, can't take criticism but criticizes all others over the World 🙄\n",
      "@PeteLau My OP7 is disastrous after the update. So u guys even test it properly before releasing to public ?\n",
      "@nikhil191994 @OnePlus_IN Try quality screen guard\n"
     ]
    },
    {
     "name": "stdout",
     "output_type": "stream",
     "text": [
      "@TherapyTechno @Heisinghberg @OnePlus_IN Lame response. Avoid replying such crap !\n",
      "@florinpop1705 How did it pop in my twitter notification as if you've DMed me ? 🤔\n",
      "@its_vsk @Mrwhosetheboss LoL...Serious cash 😂\n",
      "\n",
      "It's NOT !\n",
      "@NBCNews Wow...soo much negativity and preachers here in comment section. \n",
      "\n",
      "Wonder what did they achieve and their contribution to the society 🤦\n",
      "#ExtraProtection4YourThroat\n",
      "\n",
      "Damn  , how much this #cofsils pay ? It's trending everywhere with all IT cell accounts 😂\n",
      "RT @svpino: Software developers that want to start with machine learning, start here:\n",
      "\n",
      "• Decision Trees\n",
      "• KNN\n",
      "\n",
      "Everyone recommends Linear R…\n",
      "RT @dannysteenman: If you just started following me and see this tweet, then you’re in luck!\n",
      "\n",
      "You can request a free official AWS practice…\n",
      "RT @omarsar0: 🎓 Introduction to Deep Learning (by MIT) 🎓\n",
      "\n",
      "This is one of the top high-quality courses to learn the foundational knowledge o…\n",
      "@Ivy_Ravenwood @LokiOfficial @disneyplus It almost reached end of the premise setup. I don't think there would be second season.\n",
      "RT @Sauain: 𝗜𝗻𝘁𝗿𝗼 𝘁𝗼 𝗠𝗮𝗰𝗵𝗶𝗻𝗲 𝗟𝗲𝗮𝗿𝗻𝗶𝗻𝗴 💡\n",
      "\n",
      "Let me introduce you to the absolute starting of Machine Learning\n",
      "\n",
      "-What is ML?\n",
      "-Its types\n",
      "-Some r…\n",
      "@ishanagarwal24 Looks cringey.\n",
      "@Rohanyaarr @ishanagarwal24 @getpeid This guy is a paid Chinese bootlicker.\n",
      "@MyntraSupport LoL...they are even asking the OTP over the call and updating as customer rejected the pickup.\n",
      "\n",
      "Is this a joke ? @myntra @MyntraSupport \n",
      "\n",
      "and your CC is absolutely clueless and these issues are happening EVERYTIME , Every single time I order a product from #Myntra #MyntraEORS\n",
      "@myntra @MyntraSupport \n",
      "\n",
      "Hello Myntra , you are the worst thing happened to the entire universe.\n",
      "\n",
      "There is a delivery and a pick up supposed to happen 3 days back. Your delivery agents are updating the status as customer unavailable and your CC is asking to wait for 1 week 😡😡\n",
      "@Britzzyboii @Lucif3r35824036 Well, then they should start innovations to match the price instead of Ripping of Samsung and iPhone.\n",
      "@dermayank @readwiseio  save thread\n",
      "RT @parkersmaximoff: #loki spoilers \n",
      "-\n",
      "-\n",
      "-\n",
      "marvel fans after watching episode 4 https://t.co/B2w4poyIsQ\n",
      "#loki #Mobius #Loki #Episode4 \n",
      "\n",
      "It's gonna be world wide rage if my man don't get his jet-ski next Wednesday. \n",
      "\n",
      "No kidding !! https://t.co/QLPywc6nOC\n",
      "#Loki #Episode4 #Mobius \n",
      "\n",
      "The Man just wanted his jet-ski life back 🥺🥺\n",
      "\n",
      "Loki , please find him and give my man the jet-ski https://t.co/6EqnaKU6S4\n",
      "@Jackafrosty @InsiderAsia China and Honest in same sentence 😂\n"
     ]
    }
   ],
   "source": [
    "for c in cursor_hashx:\n",
    "    print(c.full_text)"
   ]
  },
  {
   "cell_type": "code",
   "execution_count": 9,
   "id": "80e1297d",
   "metadata": {},
   "outputs": [],
   "source": [
    "number_of_tweets = 200\n",
    "tweets = []\n",
    "likes = []\n",
    "time = []"
   ]
  },
  {
   "cell_type": "code",
   "execution_count": 10,
   "id": "a9c140ae",
   "metadata": {},
   "outputs": [],
   "source": [
    "for i in tweepy.Cursor(api.user_timeline, id ='elonmusk', tweet_mode= 'extended').items(number_of_tweets):\n",
    "    tweets.append(i.full_text)\n",
    "    likes.append(i.favorite_count)\n",
    "    time.append(i.created_at)"
   ]
  },
  {
   "cell_type": "code",
   "execution_count": 11,
   "id": "1fc90b2b",
   "metadata": {},
   "outputs": [],
   "source": [
    "df = pd.DataFrame({\"tweets\": tweets ,\"likes\": likes, \"time\": time})"
   ]
  },
  {
   "cell_type": "code",
   "execution_count": 12,
   "id": "47f6a977",
   "metadata": {},
   "outputs": [
    {
     "data": {
      "text/plain": [
       "(22, 3)"
      ]
     },
     "execution_count": 12,
     "metadata": {},
     "output_type": "execute_result"
    }
   ],
   "source": [
    "df.shape\n"
   ]
  },
  {
   "cell_type": "code",
   "execution_count": 13,
   "id": "61946fe0",
   "metadata": {},
   "outputs": [],
   "source": [
    "list_of_sentences =[sentence for sentence in df.tweets]\n",
    "\n",
    "lines = []\n",
    "\n",
    "for sentence in list_of_sentences:\n",
    "    words = sentence.split()\n",
    "    for w in words:\n",
    "        lines.append(w)"
   ]
  },
  {
   "cell_type": "code",
   "execution_count": 14,
   "id": "5bfabbbc",
   "metadata": {},
   "outputs": [],
   "source": [
    "lines = [re.sub('r[^a-zA-Z]+','',word) for word in lines]"
   ]
  },
  {
   "cell_type": "code",
   "execution_count": 15,
   "id": "3cfe7e65",
   "metadata": {},
   "outputs": [
    {
     "name": "stderr",
     "output_type": "stream",
     "text": [
      "C:\\Users\\sunee\\anaconda3\\lib\\site-packages\\seaborn\\_decorators.py:36: FutureWarning: Pass the following variables as keyword args: x, y. From version 0.12, the only valid positional argument will be `data`, and passing other arguments without an explicit keyword will result in an error or misinterpretation.\n",
      "  warnings.warn(\n"
     ]
    },
    {
     "data": {
      "image/png": "[encoded data removed]",
      "text/plain": [
       "<Figure size 720x360 with 1 Axes>"
      ]
     },
     "metadata": {
      "needs_background": "light"
     },
     "output_type": "display_data"
    }
   ],
   "source": [
    "from nltk.stem.snowball import SnowballStemmer\n",
    "\n",
    "s_stemmer = SnowballStemmer(language='english')\n",
    "stem =[]\n",
    "stem = [s_stemmer.stem(l) for l in lines]\n",
    "\n",
    "df2 = pd.DataFrame(stem)\n",
    "df2 = df2[0].value_counts()\n",
    "df2 = df2[:20,]\n",
    "\n",
    "plt.figure(figsize=(10,5))\n",
    "sns.barplot(df2.values, df2.index, alpha=1)\n",
    "plt.title(\"Top Words Overall\")\n",
    "plt.ylabel(\"Word From Tweet\", fontsize =12)\n",
    "plt.xlabel(\"Count Of Words\", fontsize=12)\n",
    "plt.show();"
   ]
  },
  {
   "cell_type": "code",
   "execution_count": 16,
   "id": "b5d6b8e4",
   "metadata": {},
   "outputs": [
    {
     "name": "stderr",
     "output_type": "stream",
     "text": [
      "C:\\Users\\sunee\\anaconda3\\lib\\site-packages\\seaborn\\_decorators.py:36: FutureWarning: Pass the following variables as keyword args: x, y. From version 0.12, the only valid positional argument will be `data`, and passing other arguments without an explicit keyword will result in an error or misinterpretation.\n",
      "  warnings.warn(\n"
     ]
    },
    {
     "data": {
      "image/png": "[encoded data removed]",
      "text/plain": [
       "<Figure size 720x360 with 1 Axes>"
      ]
     },
     "metadata": {
      "needs_background": "light"
     },
     "output_type": "display_data"
    }
   ],
   "source": [
    "#nltk.download('wordnet')\n",
    "from nltk.stem import WordNetLemmatizer\n",
    "w_lemtzr = WordNetLemmatizer()\n",
    "\n",
    "stemX =[]\n",
    "stemX = [w_lemtzr.lemmatize(l) for l in lines]\n",
    "\n",
    "df3 = pd.DataFrame(stemX)\n",
    "df3 = df3[0].value_counts()\n",
    "df3 = df3[:20,]\n",
    "\n",
    "plt.figure(figsize=(10,5))\n",
    "sns.barplot(df3.values, df3.index, alpha=1)\n",
    "plt.title(\"Top Words Overall\")\n",
    "plt.ylabel(\"Word From Tweet\", fontsize =12)\n",
    "plt.xlabel(\"Count Of Words\", fontsize=12)\n",
    "plt.show()\n"
   ]
  },
  {
   "cell_type": "code",
   "execution_count": null,
   "id": "d3ca6e95",
   "metadata": {},
   "outputs": [],
   "source": []
  },
  {
   "cell_type": "code",
   "execution_count": null,
   "id": "22223657",
   "metadata": {},
   "outputs": [],
   "source": []
  },
  {
   "cell_type": "code",
   "execution_count": null,
   "id": "42a7eec3",
   "metadata": {},
   "outputs": [],
   "source": []
  },
  {
   "cell_type": "code",
   "execution_count": 17,
   "id": "e1169986",
   "metadata": {},
   "outputs": [],
   "source": [
    "#"
   ]
  }
 ],
 "metadata": {
  "kernelspec": {
   "display_name": "Python 3",
   "language": "python",
   "name": "python3"
  },
  "language_info": {
   "codemirror_mode": {
    "name": "ipython",
    "version": 3
   },
   "file_extension": ".py",
   "mimetype": "text/x-python",
   "name": "python",
   "nbconvert_exporter": "python",
   "pygments_lexer": "ipython3",
   "version": "3.8.8"
  }
 },
 "nbformat": 4,
 "nbformat_minor": 5
}
